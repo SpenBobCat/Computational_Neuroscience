{
  "nbformat": 4,
  "nbformat_minor": 0,
  "metadata": {
    "colab": {
      "provenance": [],
      "authorship_tag": "ABX9TyO+ys7j0JZzPXrdJHeKVH6Z",
      "include_colab_link": true
    },
    "kernelspec": {
      "name": "python3",
      "display_name": "Python 3"
    },
    "language_info": {
      "name": "python"
    }
  },
  "cells": [
    {
      "cell_type": "markdown",
      "metadata": {
        "id": "view-in-github",
        "colab_type": "text"
      },
      "source": [
        "<a href=\"https://colab.research.google.com/github/SpenBobCat/Computational_Neuroscience/blob/main/Copy_of_Computational_Neuroscience_Coursera.ipynb\" target=\"_parent\"><img src=\"https://colab.research.google.com/assets/colab-badge.svg\" alt=\"Open In Colab\"/></a>"
      ]
    },
    {
      "cell_type": "markdown",
      "source": [
        "# **Computational Neuroscience**\n",
        "\n",
        "Coursera\n",
        "\n",
        "By: Michael Spencer\n"
      ],
      "metadata": {
        "id": "mR6rk9IqDi5r"
      }
    },
    {
      "cell_type": "markdown",
      "source": [
        "# **Chapter 1 Exercises:**"
      ],
      "metadata": {
        "id": "Ijo2_X05D_jk"
      }
    },
    {
      "cell_type": "markdown",
      "source": [
        "1. **Spike - Generator** \n",
        "- Generate spikes for 10s (or longer if you want better\n",
        "statistics) using a **Poisson spike generator** with a constant rate of 100 Hz and record their times of occurrence. \n",
        "- Compute the **coefficient of variation** of the inter-spike \n",
        "intervals\n",
        "- compute the **Fano factor** for spike counts obtained over counting intervals ranging from 1 to 100m/s\n",
        "- Plot the inter-spike interval histogram.\n"
      ],
      "metadata": {
        "id": "LAKe-ip0EKLF"
      }
    },
    {
      "cell_type": "code",
      "execution_count": 1,
      "metadata": {
        "id": "9CUFsbWWC9Gj"
      },
      "outputs": [],
      "source": [
        "# To generate spikes for 10 seconds using a Poisson spike generator with a constant rate of 100 Hz, \n",
        "# you can use the numpy.random.poisson() function.\n",
        "\n",
        "import numpy as np\n",
        "\n",
        "dt = 0.001 # Time step in seconds\n",
        "t = np.arange(0, 10, dt) # Time array\n",
        "rate = 100 # Poisson spike rate in Hz\n",
        "spikes = np.random.poisson(rate*dt, len(t)) # Generate spikes\n",
        "times = t[spikes > 0] # Record times of occurrence\n"
      ]
    },
    {
      "cell_type": "code",
      "source": [
        "# To compute the coefficient of variation of the inter-spike intervals, using the \n",
        "# numpy.diff() function to compute the inter-spike intervals, and then compute the \n",
        "# mean and standard deviation of the intervals and divide the standard deviation by the mean:\n",
        "\n",
        "isi = np.diff(times) # Compute inter-spike intervals \n",
        "cv = np.std(isi) / np.mean(isi) # Compute coefficient of variation \n"
      ],
      "metadata": {
        "id": "hcry5CWSG9I5"
      },
      "execution_count": 2,
      "outputs": []
    },
    {
      "cell_type": "code",
      "source": [
        "# To compute the Fano factor for spike counts obtained over counting intervals ranging \n",
        "# from 1 to 100ms, using a loop to compute the spike counts for each counting interval, \n",
        "# and then compute the mean and variance of the spike counts and divide the variance by the mean:\n",
        "\n",
        "counts = [] \n",
        "for interval in range(1, 101):\n",
        "  bins = np.arange(0, 10+interval*dt, interval*dt) # Define counting bins \n",
        "  hist, _ = np.histogram(times, bins=bins) # Compute spike counts counts.append(hist.mean()) \n",
        "ff = np.var(counts) / np.mean(counts) # Compute Fano factor \n"
      ],
      "metadata": {
        "id": "xsw6rEL3HV1B",
        "colab": {
          "base_uri": "https://localhost:8080/"
        },
        "outputId": "815cd786-8552-4aa7-b5c3-d6cd89f6b2c4"
      },
      "execution_count": 3,
      "outputs": [
        {
          "output_type": "stream",
          "name": "stderr",
          "text": [
            "/usr/local/lib/python3.9/dist-packages/numpy/core/fromnumeric.py:3757: RuntimeWarning: Degrees of freedom <= 0 for slice\n",
            "  return _methods._var(a, axis=axis, dtype=dtype, out=out, ddof=ddof,\n",
            "/usr/local/lib/python3.9/dist-packages/numpy/core/_methods.py:222: RuntimeWarning: invalid value encountered in true_divide\n",
            "  arrmean = um.true_divide(arrmean, div, out=arrmean, casting='unsafe',\n",
            "/usr/local/lib/python3.9/dist-packages/numpy/core/_methods.py:256: RuntimeWarning: invalid value encountered in double_scalars\n",
            "  ret = ret.dtype.type(ret / rcount)\n",
            "/usr/local/lib/python3.9/dist-packages/numpy/core/fromnumeric.py:3474: RuntimeWarning: Mean of empty slice.\n",
            "  return _methods._mean(a, axis=axis, dtype=dtype,\n",
            "/usr/local/lib/python3.9/dist-packages/numpy/core/_methods.py:189: RuntimeWarning: invalid value encountered in double_scalars\n",
            "  ret = ret.dtype.type(ret / rcount)\n"
          ]
        }
      ]
    },
    {
      "cell_type": "markdown",
      "source": [
        "This code calculates the Fano factor for a set of spike times using numpy in Python. Here is a breakdown of what the code does:\n",
        "\n",
        "1.  Initializes an empty list called \"counts\" to store the spike counts.\n",
        "2.  Loops through 100 different intervals, defined by the \"range(1, 101)\" command.\n",
        "3.  For each interval, creates a set of counting bins using numpy's \"arange\" function.\n",
        "4.  Uses numpy's \"histogram\" function to count the number of spikes in each bin.\n",
        "5.  Appends the mean spike count to the \"counts\" list.\n",
        "6.  Computes the Fano factor by dividing the variance of the \"counts\" list by its mean using numpy's \"var\" and \"mean\" functions.\n",
        "\n",
        "\n",
        "The warnings produced by the code indicate that there may be empty slices in the data, leading to division by zero or NaN values in the computation of the Fano factor. This could happen if there are no spikes in a particular bin or interval. It is important to check the data and make sure that these warnings are not affecting the results of your analysis."
      ],
      "metadata": {
        "id": "zQ9StbjUIbYF"
      }
    },
    {
      "cell_type": "code",
      "source": [
        "# To plot the inter-spike interval histogram, using the matplotlib.pyplot.hist() function:\n",
        "\n",
        "import matplotlib.pyplot as plt \n",
        "\n",
        "plt.hist(isi, bins=50) \n",
        "plt.xlabel('Interspike interval (s)') \n",
        "plt.ylabel('Count') \n",
        "plt.show()\n",
        "\n",
        "\n",
        "\n"
      ],
      "metadata": {
        "colab": {
          "base_uri": "https://localhost:8080/",
          "height": 279
        },
        "id": "T3F02in2I8v-",
        "outputId": "bf209ec5-7d6c-4c38-818e-a384a1b46c15"
      },
      "execution_count": 4,
      "outputs": [
        {
          "output_type": "display_data",
          "data": {
            "text/plain": [
              "<Figure size 432x288 with 1 Axes>"
            ],
            "image/png": "[encoded data removed]"
          },
          "metadata": {
            "needs_background": "light"
          }
        }
      ]
    },
    {
      "cell_type": "markdown",
      "source": [
        "2. **Refractory Period** \n",
        "\n",
        "- Add a refractory period to the Poisson spike generator by allowing the firing rate to depend on time. \n",
        "    - Initially, set the firing rate to a constant value, **r(t) = r_0**\n",
        "- After every spike, set r(t) to 0\n",
        "- allow it to recover exponentially back to r0 with a time constant **τref** that controls the refractory recovery rate. (In other words, have r(t) obey the equation: \n",
        "\n",
        "\n",
        "```\n",
        "# **τ_ref(dr/dt) = r_0 − r**\n",
        "```\n",
        "\n",
        "except immediately after a spike, when it is set to 0.)\n",
        "- Plot the **coefficient of variation** as a function of τref over the range 1ms ≤ τref ≤ 20ms\n",
        "  - Plot inter-spike interval histograms for a few different values\n",
        "of τref in this range. \n",
        "- Compute the Fano factor for spike counts obtained\n",
        "over counting intervals ranging from 1 to 100ms for the case\n",
        "**τref = 10ms**"
      ],
      "metadata": {
        "id": "oUlkTWayNYn_"
      }
    },
    {
      "cell_type": "markdown",
      "source": [
        "To add a refractory period to the Poisson spike generator, you must modify the firing rate function to include a recovery term after each spike. The firing rate at time t, r(t), will be given by:\n",
        "\n",
        "```\n",
        "# dT/dt = r0 - r(t)\n",
        "for t > t_spike + τref r(t) = 0\n",
        "for t_spike <= t <= t_spike + τref r(t) = r0*e^(-(t-t_spike-τref)/τref)\n",
        "for t > t_spike + τref\n",
        "\n",
        "```\n",
        "where t_spike is the time of the last spike. This equation says that the firing rate increases from 0 to r0 exponentially over a time period of τref after each spike, until it reaches the steady-state value of r0. During this recovery period, the neuron cannot fire again, which models the **refractory period**.\n"
      ],
      "metadata": {
        "id": "E4p_zIfmQzxq"
      }
    },
    {
      "cell_type": "markdown",
      "source": [
        "To generate spikes using this modified Poisson spike generator, we can use the following algorithm:\n",
        "\n",
        "1.\tInitialize the firing rate r(t) to r0.\n",
        "2.\tGenerate a random number u between 0 and 1.\n",
        "3.\tCompute the time interval until the next spike, Δt, using the inverse cumulative distribution function of the Poisson distribution with parameter r(t)Δt = -ln(u).\n",
        "4.\tUpdate the firing rate as follows:\n",
        "    - If Δt < T_ref (i.e., a spike occurs within the refractory period), set r(t) = 0.\n",
        "    - Otherwise, update r(t) using the differential equation above.\n",
        "5.\tGenerate a spike at time t + Δt.\n",
        "6.\tGo to step 2 and repeat.\n"
      ],
      "metadata": {
        "id": "mnw7E_UuSmh1"
      }
    },
    {
      "cell_type": "markdown",
      "source": [
        "Now we can simulate a Poisson spike train with a refractory period using the modified firing rate function. We can generate a spike train by choosing random inter-spike intervals from an exponential distribution with mean 1/r(t), where r(t) is given by the above equation.\n",
        "\n",
        "To investigate the effect of the refractory period on the spike train statistics, we can calculate the coefficient of variation (CV) and Fano factor for different values of τref. \n",
        "- CV is defined as the ratio of the standard deviation to the mean of the interspike intervals\n",
        "- Fano factor is the ratio of the variance to the mean of the spike counts over a counting interval.\n",
        "\n",
        "To implement a refractory period with exponential recovery, we can modify the firing rate equation as follows:\n",
        "\n",
        "- If the time since the last spike (t - t_last) is less than the refractory period τ_ref, set the firing rate r(t) to 0.\n",
        "- If the time since the last spike is greater than the refractory period, update the firing rate using the equation: τ_ref * (dr/dt) = r0 - r where r0 is the baseline firing rate.\n",
        "\n",
        "This equation can be solved to obtain r(t) = r0 * (1 - exp(-(t - t_last)/τ_ref))\n",
        "\n",
        "The coefficient of variation (CV) measures the variability of the interspike intervals (ISIs) of the spike train and is defined as the standard deviation of the ISIs divided by their mean. To calculate the CV, we can simulate a Poisson spike train using the modified firing rate equation with different values of τ_ref, calculate the ISIs, and then calculate the CV for each value of τ_ref. We can then plot the CV as a function of τ_ref.\n",
        "\n",
        "The interspike interval histogram (ISIH) shows the distribution of the ISIs in a spike train. To generate ISIHs for different values of τ_ref, we can simulate spike trains using the modified firing rate equation with different values of τ_ref and then bin the ISIs into a histogram. We can then plot the ISIHs for different values of τ_ref.\n",
        "\n",
        "The Fano factor is a measure of the variability of the spike count in a counting interval. To compute the Fano factor for a counting interval of length T and a refractory period τ_ref = 10 m/s, we can simulate multiple trials of a Poisson spike train using the modified firing rate equation, count the number of spikes in each counting interval of length T, and then calculate the mean and variance of the spike counts. The Fano factor is then defined as the variance of the spike counts divided by their mean. "
      ],
      "metadata": {
        "id": "EIyNfMgDUSzQ"
      }
    },
    {
      "cell_type": "code",
      "source": [
        "import numpy as np\n",
        "import matplotlib.pyplot as plt\n",
        "\n",
        "def simulate_spike_train(T, r0, tau_ref):\n",
        "    t_last = 0\n",
        "    spikes = []\n",
        "    t = 0\n",
        "    while t < T:\n",
        "        if len(spikes) == 0:\n",
        "            r = r0\n",
        "        elif t - spikes[-1] < tau_ref:\n",
        "            r = 0\n",
        "        else:\n",
        "            r = r0 * (1 - np.exp(-(t - spikes[-1])/tau_ref))\n",
        "        if r > 0:\n",
        "            dt = np.random.exponential(1/r)\n",
        "        else:\n",
        "            dt = tau_ref # skip refractory period\n",
        "        t += dt\n",
        "        if t < T:\n",
        "            spikes.append(t)\n",
        "    return np.array(spikes)\n",
        "\n",
        "# Coefficient of variation as a function of tau_ref\n",
        "r0 = 10 # Hz\n",
        "T = 1000 # ms\n",
        "tau_refs = np.linspace(1, 20, 20)\n",
        "CVs = []\n",
        "for tau_ref in tau_refs:\n",
        "    spikes = simulate_spike_train(T, r0, tau_ref)\n",
        "    ISIs = np.diff(spikes)\n",
        "    CV = np.std(ISIs)/np.mean(ISIs)\n",
        "    CVs.append(CV)\n",
        "plt.plot(tau_refs, CVs)\n",
        "plt.xlabel('tau_ref (ms)')\n",
        "plt.ylabel('CV')\n",
        "plt.show()\n"
      ],
      "metadata": {
        "colab": {
          "base_uri": "https://localhost:8080/",
          "height": 291
        },
        "id": "uwKXbGqGV1EK",
        "outputId": "ad7bb78a-6aa0-4f74-947b-c6deb8c31b80"
      },
      "execution_count": 6,
      "outputs": [
        {
          "output_type": "display_data",
          "data": {
            "text/plain": [
              "<Figure size 432x288 with 1 Axes>"
            ],
            "image/png": "[encoded data removed]"
          },
          "metadata": {
            "needs_background": "light"
          }
        }
      ]
    },
    {
      "cell_type": "code",
      "source": [
        "def simulate_spike_train(T, r0, tau_ref):\n",
        "    t_last = 0\n",
        "    spikes = [100]\n",
        "    t = 0\n",
        "    while t < T:\n",
        "        if len(spikes) == 0:\n",
        "            r = r0\n",
        "        elif t - spikes[-1] < tau_ref:\n",
        "            r = 0\n",
        "        else:\n",
        "            r = r0 * (1 - np.exp(-(t - spikes[-1])/tau_ref))\n",
        "        if r > 0:\n",
        "            dt = np.random.exponential(1/r)\n",
        "        else:\n",
        "            dt = tau_ref # skip refractory period\n",
        "        t += dt\n",
        "        if t < T:\n",
        "            spikes.append(t)\n",
        "    return np.array(spikes)\n",
        "\n",
        "# Inter-spike interval histograms for different tau_ref values\n",
        "\n",
        "r0 = 10 # Hz\n",
        "T = 1000 # ms\n",
        "tau_refs = [1, 5, 10, 15, 20]\n",
        "for tau_ref in tau_refs:\n",
        "    spikes = simulate_spike_train(T, r0, tau_ref)\n",
        "    ISIs = np.diff(spikes)\n",
        "    plt.hist(ISIs, bins=100, density=False, alpha=0.5, label='tau_ref = {} ms'.format(tau_ref))\n",
        "plt.xlabel('ISI (ms)')\n",
        "plt.ylabel('Count')\n",
        "plt.legend()\n",
        "plt.show()\n",
        "\n"
      ],
      "metadata": {
        "colab": {
          "base_uri": "https://localhost:8080/",
          "height": 279
        },
        "id": "LBwzbzlCXa8e",
        "outputId": "904a485e-5941-4206-853b-d53b32cc7425"
      },
      "execution_count": 19,
      "outputs": [
        {
          "output_type": "display_data",
          "data": {
            "text/plain": [
              "<Figure size 432x288 with 1 Axes>"
            ],
            "image/png": "[encoded data removed]"
          },
          "metadata": {
            "needs_background": "light"
          }
        }
      ]
    },
    {
      "cell_type": "markdown",
      "source": [
        "The graph shows the distribution of inter-spike intervals (ISIs) for different refractory period (tau_ref) values. \n",
        "- x-axis represents the duration of ISIs in milliseconds,\n",
        "- y-axis represents the number of ISIs that fall within each bin of the histogram.\n",
        "\n",
        "The results suggest that the refractory period has a significant effect on the distribution of ISIs, with shorter tau_ref values resulting in a higher frequency of shorter ISIs and longer tau_ref values resulting in a more even distribution of ISIs. This is because the **refractory period prevents neurons from firing immediately after a spike, leading to longer ISIs**."
      ],
      "metadata": {
        "id": "Cu5bPKolaS2i"
      }
    },
    {
      "cell_type": "markdown",
      "source": [],
      "metadata": {
        "id": "H44VcC7oamwa"
      }
    }
  ]
}