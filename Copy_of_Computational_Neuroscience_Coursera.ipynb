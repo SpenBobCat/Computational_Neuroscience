{
  "nbformat": 4,
  "nbformat_minor": 0,
  "metadata": {
    "colab": {
      "provenance": [],
      "authorship_tag": "ABX9TyOXqQaCQEs+H0HzTqcq6XfT",
      "include_colab_link": true
    },
    "kernelspec": {
      "name": "python3",
      "display_name": "Python 3"
    },
    "language_info": {
      "name": "python"
    }
  },
  "cells": [
    {
      "cell_type": "markdown",
      "metadata": {
        "id": "view-in-github",
        "colab_type": "text"
      },
      "source": [
        "<a href=\"https://colab.research.google.com/github/SpenBobCat/Computational_Neuroscience/blob/main/Copy_of_Computational_Neuroscience_Coursera.ipynb\" target=\"_parent\"><img src=\"https://colab.research.google.com/assets/colab-badge.svg\" alt=\"Open In Colab\"/></a>"
      ]
    },
    {
      "cell_type": "markdown",
      "source": [
        "# **Computational Neuroscience**\n",
        "\n",
        "Coursera\n",
        "\n",
        "By: Michael Spencer\n"
      ],
      "metadata": {
        "id": "mR6rk9IqDi5r"
      }
    },
    {
      "cell_type": "markdown",
      "source": [
        "# **Chapter 1 Exercises:**"
      ],
      "metadata": {
        "id": "Ijo2_X05D_jk"
      }
    },
    {
      "cell_type": "markdown",
      "source": [
        "1. **Spike - Generator** \n",
        " - Generate spikes for 10s (or longer if you want better\n",
        "statistics) using a **Poisson spike generator** with a constant rate of 100 Hz and record their times of occurrence. \n",
        " - Compute the **coefficient of variation** of the inter-spike \n",
        "intervals\n",
        " - compute the **Fano factor** for spike counts obtained over counting intervals ranging from 1 to 100m/s\n",
        " - Plot the inter-spike interval histogram.\n"
      ],
      "metadata": {
        "id": "LAKe-ip0EKLF"
      }
    },
    {
      "cell_type": "code",
      "execution_count": 1,
      "metadata": {
        "id": "9CUFsbWWC9Gj"
      },
      "outputs": [],
      "source": [
        "# To generate spikes for 10 seconds using a Poisson spike generator with a constant rate of 100 Hz, \n",
        "# you can use the numpy.random.poisson() function.\n",
        "\n",
        "import numpy as np\n",
        "\n",
        "dt = 0.001 # Time step in seconds\n",
        "t = np.arange(0, 10, dt) # Time array\n",
        "rate = 100 # Poisson spike rate in Hz\n",
        "spikes = np.random.poisson(rate*dt, len(t)) # Generate spikes\n",
        "times = t[spikes > 0] # Record times of occurrence\n"
      ]
    },
    {
      "cell_type": "code",
      "source": [
        "# To compute the coefficient of variation of the inter-spike intervals, using the \n",
        "# numpy.diff() function to compute the inter-spike intervals, and then compute the \n",
        "# mean and standard deviation of the intervals and divide the standard deviation by the mean:\n",
        "\n",
        "isi = np.diff(times) # Compute inter-spike intervals \n",
        "cv = np.std(isi) / np.mean(isi) # Compute coefficient of variation \n"
      ],
      "metadata": {
        "id": "hcry5CWSG9I5"
      },
      "execution_count": 2,
      "outputs": []
    },
    {
      "cell_type": "code",
      "source": [
        "# To compute the Fano factor for spike counts obtained over counting intervals ranging \n",
        "# from 1 to 100ms, using a loop to compute the spike counts for each counting interval, \n",
        "# and then compute the mean and variance of the spike counts and divide the variance by the mean:\n",
        "\n",
        "counts = [] \n",
        "for interval in range(1, 101):\n",
        "  bins = np.arange(0, 10+interval*dt, interval*dt) # Define counting bins \n",
        "  hist, _ = np.histogram(times, bins=bins) # Compute spike counts counts.append(hist.mean()) \n",
        "ff = np.var(counts) / np.mean(counts) # Compute Fano factor \n"
      ],
      "metadata": {
        "id": "xsw6rEL3HV1B",
        "colab": {
          "base_uri": "https://localhost:8080/"
        },
        "outputId": "815cd786-8552-4aa7-b5c3-d6cd89f6b2c4"
      },
      "execution_count": 3,
      "outputs": [
        {
          "output_type": "stream",
          "name": "stderr",
          "text": [
            "/usr/local/lib/python3.9/dist-packages/numpy/core/fromnumeric.py:3757: RuntimeWarning: Degrees of freedom <= 0 for slice\n",
            "  return _methods._var(a, axis=axis, dtype=dtype, out=out, ddof=ddof,\n",
            "/usr/local/lib/python3.9/dist-packages/numpy/core/_methods.py:222: RuntimeWarning: invalid value encountered in true_divide\n",
            "  arrmean = um.true_divide(arrmean, div, out=arrmean, casting='unsafe',\n",
            "/usr/local/lib/python3.9/dist-packages/numpy/core/_methods.py:256: RuntimeWarning: invalid value encountered in double_scalars\n",
            "  ret = ret.dtype.type(ret / rcount)\n",
            "/usr/local/lib/python3.9/dist-packages/numpy/core/fromnumeric.py:3474: RuntimeWarning: Mean of empty slice.\n",
            "  return _methods._mean(a, axis=axis, dtype=dtype,\n",
            "/usr/local/lib/python3.9/dist-packages/numpy/core/_methods.py:189: RuntimeWarning: invalid value encountered in double_scalars\n",
            "  ret = ret.dtype.type(ret / rcount)\n"
          ]
        }
      ]
    },
    {
      "cell_type": "markdown",
      "source": [
        "This code calculates the Fano factor for a set of spike times using numpy in Python. Here is a breakdown of what the code does:\n",
        "\n",
        "1.  Initializes an empty list called \"counts\" to store the spike counts.\n",
        "2.  Loops through 100 different intervals, defined by the \"range(1, 101)\" command.\n",
        "3.  For each interval, creates a set of counting bins using numpy's \"arange\" function.\n",
        "4.  Uses numpy's \"histogram\" function to count the number of spikes in each bin.\n",
        "5.  Appends the mean spike count to the \"counts\" list.\n",
        "6.  Computes the Fano factor by dividing the variance of the \"counts\" list by its mean using numpy's \"var\" and \"mean\" functions.\n",
        "\n",
        "\n",
        "The warnings produced by the code indicate that there may be empty slices in the data, leading to division by zero or NaN values in the computation of the Fano factor. This could happen if there are no spikes in a particular bin or interval. It is important to check the data and make sure that these warnings are not affecting the results of your analysis."
      ],
      "metadata": {
        "id": "zQ9StbjUIbYF"
      }
    },
    {
      "cell_type": "code",
      "source": [
        "# To plot the inter-spike interval histogram, using the matplotlib.pyplot.hist() function:\n",
        "\n",
        "import matplotlib.pyplot as plt \n",
        "\n",
        "plt.hist(isi, bins=50) \n",
        "plt.xlabel('Interspike interval (s)') \n",
        "plt.ylabel('Count') \n",
        "plt.show()\n",
        "\n",
        "\n",
        "\n"
      ],
      "metadata": {
        "colab": {
          "base_uri": "https://localhost:8080/",
          "height": 279
        },
        "id": "T3F02in2I8v-",
        "outputId": "bf209ec5-7d6c-4c38-818e-a384a1b46c15"
      },
      "execution_count": 4,
      "outputs": [
        {
          "output_type": "display_data",
          "data": {
            "text/plain": [
              "<Figure size 432x288 with 1 Axes>"
            ],
            "image/png": "[encoded data removed]"
          },
          "metadata": {
            "needs_background": "light"
          }
        }
      ]
    }
  ]
}